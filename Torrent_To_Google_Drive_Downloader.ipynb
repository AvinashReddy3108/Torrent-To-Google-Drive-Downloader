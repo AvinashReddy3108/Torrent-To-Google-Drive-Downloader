{
  "nbformat": 4,
  "nbformat_minor": 0,
  "metadata": {
    "colab": {
      "name": "qbittorrent.ipynb",
      "provenance": [],
      "collapsed_sections": [],
      "authorship_tag": "ABX9TyON6eFT4Qc6C6pTFVgFsPTF",
      "include_colab_link": true
    },
    "kernelspec": {
      "name": "python3",
      "display_name": "Python 3"
    }
  },
  "cells": [
    {
      "cell_type": "markdown",
      "metadata": {
        "id": "view-in-github",
        "colab_type": "text"
      },
      "source": [
        "<a href=\"https://colab.research.google.com/github/AvinashReddy3108/Torrent-To-Google-Drive-Downloader/blob/main/Torrent_To_Google_Drive_Downloader.ipynb\" target=\"_parent\"><img src=\"https://colab.research.google.com/assets/colab-badge.svg\" alt=\"Open In Colab\"/></a>"
      ]
    },
    {
      "cell_type": "markdown",
      "metadata": {
        "id": "lzynp9C5solM"
      },
      "source": [
        "# Torrent -> Google Drive uploader\n",
        "*(ab)using QBitTorrent's WebUI and ngrok.*\n",
        "\n",
        "Made for personal use with [this awesome guide](https://medium.com/@martinetmayank/create-a-torrent-server-from-google-colab-8fac019bdce2) as base!"
      ]
    },
    {
      "cell_type": "markdown",
      "metadata": {
        "id": "NUtb8lMisllA"
      },
      "source": [
        "**Important Note:** To get more disk space:\n",
        "> Go to Runtime -> Change Runtime and give GPU as the Hardware Accelerator.  You will get around 384GB to download any torrent you want."
      ]
    },
    {
      "cell_type": "markdown",
      "metadata": {
        "id": "BtyrRqYrgkr4"
      },
      "source": [
        "### Mounting Google Drive\n",
        "*DUH, Where else would you store your files?*"
      ]
    },
    {
      "cell_type": "code",
      "metadata": {
        "colab": {
          "base_uri": "https://localhost:8080/"
        },
        "id": "Y-RabhMfgol4",
        "outputId": "c14e7c2f-b9b6-4e2b-a467-cce69eb572d6"
      },
      "source": [
        "from google.colab import drive\n",
        "drive.mount('/content/drive/')"
      ],
      "execution_count": 2,
      "outputs": [
        {
          "output_type": "stream",
          "text": [
            "Mounted at /content/drive/\n"
          ],
          "name": "stdout"
        }
      ]
    },
    {
      "cell_type": "markdown",
      "metadata": {
        "id": "QcSPdxSJg0dQ"
      },
      "source": [
        "### Installing QBittorrent (+ the Web API client)\n"
      ]
    },
    {
      "cell_type": "code",
      "metadata": {
        "id": "B9_8v0p9g3aU"
      },
      "source": [
        "!add-apt-repository ppa:qbittorrent-team/qbittorrent-stable -y\n",
        "!apt install qbittorrent-nox\n",
        "!pip install qbittorrent-api\n",
        "!git clone --single-branch --branch latest-release https://github.com/WDaan/VueTorrent.git"
      ],
      "execution_count": null,
      "outputs": []
    },
    {
      "cell_type": "markdown",
      "metadata": {
        "id": "CHrdWVJBhNs4"
      },
      "source": [
        "### Installing and authenticating [ngrok](https://ngrok.com/)\n",
        "\n",
        "\n",
        "\n",
        "Get your free auth token at [ngrok's dashboard](https://dashboard.ngrok.com/auth/your-authtoken)!\n",
        "\n"
      ]
    },
    {
      "cell_type": "code",
      "metadata": {
        "id": "cWbS_i9BhTlc"
      },
      "source": [
        "# These are some free tokens, uncomment any of them to try them out...\n",
        "\n",
        "# TOKEN = \"1X7aYWPuFKYzvewLbnNoMo71kZi_2uzbB966Q4TU5cpgNPKhy\"\n",
        "# TOKEN = \"1UqHsShi6o3ketf426P5UtVdTfs_5XFD6sFRMkryka8fAbLd3\"\n",
        "# TOKEN = \"1Qe1IeySOQWSTnpQ3eFfr8j7Oi5_2zhanqnpZwHBhsfANd6yf\"\n",
        "# TOKEN = \"7pWLVhS1gxiMAQdaFeYJy_31krnw9drNLLJftaNSFnm\"\n",
        "\n",
        "# Or, be the better guy and use your own token..\n",
        "TOKEN = \"<your ngrok token here>\"\n",
        "\n",
        "def install_ngrok():\n",
        "    import os\n",
        "    from zipfile import ZipFile\n",
        "    from urllib.request import urlretrieve\n",
        "    \n",
        "    url = 'https://bin.equinox.io/c/4VmDzA7iaHb/ngrok-stable-linux-amd64.zip'\n",
        "    urlretrieve(url, 'ngrok-amd64.zip')\n",
        "    \n",
        "    with ZipFile('ngrok-amd64.zip', 'r') as zip_ref:\n",
        "        zip_ref.extractall('/usr/local/bin/')\n",
        "    os.chmod('/usr/local/bin/ngrok', 0o755)\n",
        "    os.unlink('ngrok-amd64.zip')\n",
        "\n",
        "install_ngrok()\n",
        "if TOKEN != \"\":\n",
        "    !ngrok authtoken $TOKEN"
      ],
      "execution_count": null,
      "outputs": []
    },
    {
      "cell_type": "markdown",
      "metadata": {
        "id": "J2coRNVdYl8I"
      },
      "source": [
        "### Start the Qbittorent daemon."
      ]
    },
    {
      "cell_type": "code",
      "metadata": {
        "id": "Xeo_y7GyYrlE"
      },
      "source": [
        "!qbittorrent-nox -d --webui-port=9999"
      ],
      "execution_count": 5,
      "outputs": []
    },
    {
      "cell_type": "markdown",
      "metadata": {
        "id": "JhidExPoIbIA"
      },
      "source": [
        "### Custom configuration.\n",
        "\n",
        "- Ability to override WebUI username/password.\n",
        "- Using custom [WebUI theme](https://github.com/WDaan/VueTorrent).\n",
        "- Default location: `your_drive/Torrents`\n",
        "- Anonymous mode: ON"
      ]
    },
    {
      "cell_type": "code",
      "metadata": {
        "id": "7eACfZICIk3c"
      },
      "source": [
        "import json\n",
        "import qbittorrentapi\n",
        "\n",
        "# WebUI Authentication.\n",
        "_username = \"vuetorrent\"\n",
        "_password = \"password\"\n",
        "\n",
        "# DO NOT TOUCH THIS, AT ALL!\n",
        "# --------------------------\n",
        "try:\n",
        "  qbt_client = qbittorrentapi.Client(\n",
        "      host='localhost:9999',\n",
        "      username='admin',\n",
        "      password='adminadmin',\n",
        "      SIMPLE_RESPONSES=True\n",
        "      )\n",
        "  prefs = qbt_client.app.preferences\n",
        "except qbittorrentapi.exceptions.LoginFailed:\n",
        "  qbt_client = qbittorrentapi.Client(\n",
        "      host='localhost:9999',\n",
        "      username=_username,\n",
        "      password=_password,\n",
        "      SIMPLE_RESPONSES=True\n",
        "      )\n",
        "  prefs = qbt_client.app.preferences\n",
        "# --------------------------\n",
        "\n",
        "# Set your prefs here!\n",
        "prefs['web_ui_username'] = _username\n",
        "prefs['web_ui_password'] = _password\n",
        "prefs['alternative_webui_enabled'] = True\n",
        "prefs['alternative_webui_path'] = 'VueTorrent'\n",
        "prefs['save_path'] = '/content/drive/MyDrive/Torrents'\n",
        "prefs['anonymous_mode'] = True\n",
        "# End of custom prefs.\n",
        "\n",
        "qbt_client.app.preferences = prefs\n",
        "print(f'qBittorrent: {qbt_client.app.version} [Web API: {qbt_client.app.web_api_version}]')\n",
        "print()\n",
        "print(\"[Preferences / Configuration]\")\n",
        "print()\n",
        "print(json.dumps(qbt_client.app.preferences, indent=4, sort_keys=True))"
      ],
      "execution_count": null,
      "outputs": []
    },
    {
      "cell_type": "markdown",
      "metadata": {
        "id": "6Dy6lgxYtsxg"
      },
      "source": [
        "### Start the damn server!"
      ]
    },
    {
      "cell_type": "code",
      "metadata": {
        "id": "3EMQ_uc3t2d0"
      },
      "source": [
        "import threading\n",
        "import time\n",
        "import requests\n",
        "import json\n",
        "import subprocess\n",
        "\n",
        "def ngrok(port):\n",
        "    \n",
        "    ngrok_cmd = subprocess.Popen(['ngrok', 'http', str(port)])    \n",
        "    localhost_url = \"http://localhost:4040/api/tunnels\"\n",
        "\n",
        "    time.sleep(1)\n",
        "    tunnel_url = requests.get(localhost_url).text\n",
        "    json_data = json.loads(tunnel_url)\n",
        "\n",
        "    tunnel_url = json_data['tunnels'][0]['public_url']\n",
        "    tunnel_url = tunnel_url.replace(\"https\", \"http\")\n",
        "    print('Running at localhost:' + str(port))\n",
        "    print(tunnel_url)\n",
        "\n",
        "if __name__ == '__main__':\n",
        "    \n",
        "    port = 9999\n",
        "    thread_ngrok = threading.Thread(target = ngrok, args=(int(port),))\n",
        "\n",
        "    time.sleep(5)\n",
        "    print('Establishing secure connection!')\n",
        "    \n",
        "    thread_ngrok.start()\n",
        "    print('Secure connection established...')\n",
        "    print(f'Username: {_username if _username != \"\" else \"admin\"}')\n",
        "    print(f'password: {_password if _password !=\"\" else \"adminadmin\"}')\n",
        "    \n",
        "    thread_ngrok.join()"
      ],
      "execution_count": null,
      "outputs": []
    },
    {
      "cell_type": "markdown",
      "metadata": {
        "id": "54DJ3yCspNUY"
      },
      "source": [
        "### Keep-alive (run and forget.)\n",
        "*It does what it says :)*\n",
        "\n",
        "**NOTE: Don't close this window/tab!**"
      ]
    },
    {
      "cell_type": "code",
      "metadata": {
        "id": "4ma5nuSDpT9Y"
      },
      "source": [
        "while True:pass"
      ],
      "execution_count": null,
      "outputs": []
    }
  ]
}